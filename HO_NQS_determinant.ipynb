{
  "cells": [
    {
      "cell_type": "markdown",
      "metadata": {
        "id": "view-in-github",
        "colab_type": "text"
      },
      "source": [
        "<a href=\"https://colab.research.google.com/github/alelovato/EIC_School/blob/main/HO_NQS_determinant.ipynb\" target=\"_parent\"><img src=\"https://colab.research.google.com/assets/colab-badge.svg\" alt=\"Open In Colab\"/></a>"
      ]
    },
    {
      "cell_type": "markdown",
      "metadata": {
        "id": "oL6V0isKIwVA"
      },
      "source": [
        "# Quantum Harmonic Oscillator"
      ]
    },
    {
      "cell_type": "markdown",
      "metadata": {
        "id": "lyYZggEgoZ8F"
      },
      "source": [
        "Here we compute the ground-state of the $ndim$-dimensional quantum harmonic oscillator for a system of $npart$ particles. The Hamiltonian of the system reads:\n",
        "\n",
        "$$ H = -\\frac{1}{2m} \\sum_{i=1}^{npart} \\vec{\\nabla}_i^2 + \\frac{m \\omega^2}{2}\\sum_{i=1}^{npart} \\vec{x}_i^2 $$\n",
        "\n",
        "For simplicity, we take $m=1$ and $\\omega=1$. According to the variational principle of quantum mechanics, for any bosonic variational wave function $|\\psi_V\\rangle$,\n",
        "\n",
        "$$ \\frac{\\langle \\psi_V | H | \\psi_V \\rangle}{\\langle \\psi_V | \\psi_V \\rangle} ~ \\ge ~ E_0 = \\frac{1}{2} ndim * npart $$\n",
        "\n",
        "In this notebook, we solve both a system of bosons and a system of fermions. The boson ansatz reads:\n",
        "\n",
        "$$ \\langle R | \\psi_V \\rangle = \\psi_V(R) = \\exp \\left[\\sum_i \\mathcal{U}(\\vec{r}_i)\\right]$$\n",
        "\n",
        "Note that the ground state corresponds to\n",
        "\n",
        "$$ \\psi_0(R) = \\exp \\left(-\\frac{1}{2}\\sum_i \\vec{r}_i^2\\right) $$\n"
      ]
    },
    {
      "cell_type": "code",
      "execution_count": 1,
      "metadata": {
        "id": "rQBcqnMKoIln"
      },
      "outputs": [],
      "source": [
        "# Load the libraries that we need for this notebook\n",
        "import numpy as np\n",
        "from matplotlib import pyplot as plt\n",
        "from mpl_toolkits import mplot3d\n",
        "import matplotlib.pyplot as plt\n",
        "import matplotlib.gridspec as gridspec\n",
        "from IPython.display import display, clear_output\n",
        "\n",
        "import jax\n",
        "import jaxlib\n",
        "jax.config.update(\"jax_enable_x64\", True)\n",
        "\n",
        "import jax.numpy as jnp\n",
        "from jax import random, grad, jit, vmap, pmap, jacfwd, jacrev\n",
        "from jax.example_libraries import stax\n",
        "from jax.lax import fori_loop\n",
        "from functools import partial\n",
        "\n",
        "from jax.example_libraries.stax import (BatchNorm, Conv, Dense, Flatten,\n",
        "                                   Relu, Gelu, LogSoftmax, Softplus, Tanh,\n",
        "                                   Sigmoid, elementwise, FanOut, FanInConcat)\n",
        "from jax.nn.initializers import glorot_normal, normal, ones, zeros\n",
        "\n",
        "from jax.tree_util import tree_flatten\n",
        "from jax.flatten_util import ravel_pytree\n",
        "from jax.scipy.linalg import cho_factor, cho_solve"
      ]
    },
    {
      "cell_type": "markdown",
      "source": [
        "### WavefunctionBoson class\n",
        "\n",
        "This class defines a variational bosonic wave function for `npart` particles in `ndim` dimensions.\n",
        "It uses two dense neural networks with `Tanh` activation to model the amplitude and phase\n",
        "of the log wave function separately. The `build` method initializes the networks and returns\n",
        "their parameters in both structured and flattened forms.\n",
        "\n",
        "The method `logpsi` evaluates the complex-valued log wave function by summing network outputs\n",
        "over all particles and adding a confining quadratic term. `vmap_logpsi` applies `logpsi` to\n",
        "a batch of configurations. Utility methods are included to flatten/unflatten parameters\n",
        "and support optimizer updates.\n",
        "\n",
        "This ansatz is symmetric under particle exchange and therefore suitable for bosonic systems."
      ],
      "metadata": {
        "id": "rjLHL_ICsQUi"
      }
    },
    {
      "cell_type": "code",
      "execution_count": 2,
      "metadata": {
        "id": "iy-zay5cxKkf"
      },
      "outputs": [],
      "source": [
        "class WavefunctionBoson(object):\n",
        "    \"\"\"Create a wave function in ndim dimensions and for npart\n",
        "    bosons using a dense complex feed-forward neural net as\n",
        "    a building block\n",
        "    \"\"\"\n",
        "    def __init__(self, ndim : int, npart : int):\n",
        "        self.ndim = ndim\n",
        "        self.npart = npart\n",
        "        self.activation = Tanh\n",
        "        self.ndense = 16\n",
        "\n",
        "    def build(self, key):\n",
        "        in_shape = (-1, self.ndim)\n",
        "\n",
        "        self.dense_init, self.dense_apply = stax.serial(\n",
        "        Dense(self.ndense), self.activation,\n",
        "        Dense(self.ndense), self.activation,\n",
        "        Dense(1),\n",
        ")\n",
        "        key, key_input = jax.random.split(key)\n",
        "        _, amplitude_params = self.dense_init(key_input, in_shape)\n",
        "\n",
        "        key, key_input = jax.random.split(key)\n",
        "        _, phase_params = self.dense_init(key_input, in_shape)\n",
        "\n",
        "        net_params = [amplitude_params] + [phase_params]\n",
        "\n",
        "        net_params = jax.tree_util.tree_map(self.update_cast, net_params)\n",
        "        flat_net_params = self.flatten_params(net_params)\n",
        "        num_flat_params = flat_net_params.shape[0]\n",
        "\n",
        "        return net_params, num_flat_params\n",
        "\n",
        "    @partial(jit, static_argnums=(0,))\n",
        "    def logpsi(self, params, r):\n",
        "\n",
        "        amplitude_params, phase_params = params\n",
        "        amplitude = self.dense_apply(amplitude_params, r)\n",
        "        phase = self.dense_apply(phase_params, r)\n",
        "\n",
        "        logpsi = amplitude + 1j * jnp.pi * phase\n",
        "        logpsi = jnp.sum(logpsi, axis = 0) # Here I am summing over the particles; only valid for bosons\n",
        "        logpsi = jnp.reshape(logpsi, ())\n",
        "        logpsi = logpsi - 0.04 * jnp.sum(r**2)\n",
        "        return logpsi\n",
        "\n",
        "    @partial(jit, static_argnums=(0,))\n",
        "    def vmap_logpsi(self, params, r):\n",
        "        vmap_logpsi = vmap(self.logpsi, in_axes=(None, 0))(params, r)\n",
        "        return vmap_logpsi\n",
        "\n",
        "    @partial(jit, static_argnums=(0,))\n",
        "    def flatten_params(self, parameters):\n",
        "        flatten_parameters, self.unravel = ravel_pytree(parameters)\n",
        "        return flatten_parameters\n",
        "\n",
        "    @partial(jit, static_argnums=(0,))\n",
        "    def unflatten_params(self, flatten_parameters):\n",
        "        unflatten_parameters = self.unravel(flatten_parameters)\n",
        "        return unflatten_parameters\n",
        "\n",
        "    @partial(jit, static_argnums=(0,))\n",
        "    def update_add(self, params, dparams):\n",
        "        return params + dparams\n",
        "\n",
        "    @partial(jit, static_argnums=(0,))\n",
        "    def update_cast(self, params):\n",
        "        return params.astype(jnp.float64)"
      ]
    },
    {
      "cell_type": "markdown",
      "source": [
        "### WavefunctionFermion class\n",
        "\n",
        "This class defines a variational wave function for `npart` fermions in `ndim` spatial dimensions.\n",
        "It uses two dense feed-forward neural networks (with `Tanh` activation and width 16) to model\n",
        "the amplitude and phase of `npart` single-particle orbitals. The outputs are combined into\n",
        "a complex-valued matrix whose determinant defines the antisymmetric wave function.\n",
        "\n",
        "The `logpsi` method computes the complex logarithm of the wave function using\n",
        "`jnp.linalg.slogdet`, which returns both the log-determinant and the phase.\n",
        "This ensures the wave function satisfies fermionic antisymmetry.\n",
        "\n",
        "A weak harmonic term `-0.04 * sum(r**2)` is added to the log-amplitude to confine\n",
        "the Markov chain configurations at the beginning of the optimization.\n"
      ],
      "metadata": {
        "id": "ZLGngKH6sm5p"
      }
    },
    {
      "cell_type": "code",
      "execution_count": 3,
      "metadata": {
        "id": "CFzt73Xjte_b"
      },
      "outputs": [],
      "source": [
        "class WavefunctionFermion(object):\n",
        "    \"\"\"Create a wave function in ndim dimensions and for npart\n",
        "    fermions using a dense complex feed-forward neural net as\n",
        "    a building block\n",
        "    \"\"\"\n",
        "    def __init__(self, ndim : int, npart : int):\n",
        "        self.ndim = ndim\n",
        "        self.npart = npart\n",
        "        self.activation = Tanh\n",
        "        self.ndense = 16\n",
        "\n",
        "    def build(self, key):\n",
        "        in_shape = (-1, self.ndim)\n",
        "\n",
        "        self.dense_init, self.dense_apply = stax.serial(\n",
        "        Dense(self.ndense), self.activation,\n",
        "        Dense(self.ndense), self.activation,\n",
        "        Dense(self.npart),\n",
        ")\n",
        "        key, key_input = jax.random.split(key)\n",
        "        _, amplitude_params = self.dense_init(key_input, in_shape)\n",
        "\n",
        "        key, key_input = jax.random.split(key)\n",
        "        _, phase_params = self.dense_init(key_input, in_shape)\n",
        "\n",
        "        net_params = [amplitude_params] + [phase_params]\n",
        "\n",
        "        net_params = jax.tree_util.tree_map(self.update_cast, net_params)\n",
        "        flat_net_params = self.flatten_params(net_params)\n",
        "        num_flat_params = flat_net_params.shape[0]\n",
        "\n",
        "        return net_params, num_flat_params\n",
        "\n",
        "    @partial(jit, static_argnums=(0,))\n",
        "    def logpsi(self, params, r):\n",
        "\n",
        "        amplitude_params, phase_params = params\n",
        "        amplitude = self.dense_apply(amplitude_params, r)\n",
        "        phase = self.dense_apply(phase_params, r)\n",
        "\n",
        "        phi = jnp.exp( amplitude + 1j * jnp.pi * phase )\n",
        "\n",
        "        phase, logpsi = jnp.linalg.slogdet(phi)\n",
        "        phase = jnp.imag(jnp.log(phase))\n",
        "\n",
        "        logpsi = logpsi - 0.04 * jnp.sum(r**2)\n",
        "\n",
        "        return logpsi + 1j * phase\n",
        "\n",
        "    @partial(jit, static_argnums=(0,))\n",
        "    def vmap_logpsi(self, params, r):\n",
        "        vmap_logpsi = vmap(self.logpsi, in_axes=(None, 0))(params, r)\n",
        "        return vmap_logpsi\n",
        "\n",
        "    @partial(jit, static_argnums=(0,))\n",
        "    def flatten_params(self, parameters):\n",
        "        flatten_parameters, self.unravel = ravel_pytree(parameters)\n",
        "        return flatten_parameters\n",
        "\n",
        "    @partial(jit, static_argnums=(0,))\n",
        "    def unflatten_params(self, flatten_parameters):\n",
        "        unflatten_parameters = self.unravel(flatten_parameters)\n",
        "        return unflatten_parameters\n",
        "\n",
        "    @partial(jit, static_argnums=(0,))\n",
        "    def update_add(self, params, dparams):\n",
        "        return params + dparams\n",
        "\n",
        "    @partial(jit, static_argnums=(0,))\n",
        "    def update_cast(self, params):\n",
        "        return params.astype(jnp.float64)"
      ]
    },
    {
      "cell_type": "markdown",
      "source": [
        "### Hamiltonian class\n",
        "\n",
        "This class computes the kinetic and potential energy expectation values for a system of\n",
        "`npart` particles in `ndim` dimensions, each subject to an independent harmonic oscillator potential.\n",
        "\n",
        "- The `potential` method implements the analytic form of the harmonic potential energy,  \n",
        "  $V = \\frac{1}{2} \\sum_i \\mathbf{r}_i^2$, evaluated over batches of configurations.\n",
        "\n",
        "- The `kinetic` method uses automatic differentiation to compute the Laplacian of the\n",
        "  log wave function. It separately evaluates the real and imaginary parts via\n",
        "  `jax.grad` and `jax.hessian`, and combines them to compute the kinetic energy via  \n",
        "\n",
        "  $$\n",
        "  T = -\\frac{1}{2} \\left( \\nabla^2 \\log \\psi + |\\nabla \\log \\psi|^2 \\right).\n",
        "  $$\n",
        "\n",
        "- The `energy` method returns the kinetic, potential, and total energy for a given\n",
        "  batch of configurations, using `vmap` for efficient evaluation.\n",
        "\n",
        "The class is designed to work with any wave function object that implements a `.logpsi(params, r)` method.\n"
      ],
      "metadata": {
        "id": "RTdLyb72syxB"
      }
    },
    {
      "cell_type": "code",
      "execution_count": 4,
      "metadata": {
        "id": "SCUY_gYb7cbv"
      },
      "outputs": [],
      "source": [
        "class Hamiltonian(object):\n",
        "    \"\"\"Expectation values of the kinetic and potential energies of\n",
        "       a collection of independent harmonic oscillators.\n",
        "    \"\"\"\n",
        "    def __init__(self, ndim : int, npart : int, wavefunction : callable):\n",
        "       self.ndim = ndim\n",
        "       self.npart = npart\n",
        "       self.wavefunction = wavefunction\n",
        "\n",
        "    @partial(jit, static_argnums=(0,))\n",
        "    def potential (self, x):\n",
        "        \"\"\" The HO oscillator potential is given by\n",
        "        V = <x|V|psi> / <x|psi> = 1/2 sum_i x_i^2\n",
        "        \"\"\"\n",
        "        pe = 0.5 * jnp.sum(x**2, axis=(1,2))\n",
        "        return pe\n",
        "\n",
        "    @partial(jit, static_argnums=(0,))\n",
        "    def kinetic(self, params, r):\n",
        "        \"\"\" Use autodiff to compute the kinetic energy\n",
        "        \"\"\"\n",
        "        logpsi_r = lambda r: jnp.real(self.wavefunction.logpsi(params, r))\n",
        "        logpsi_i = lambda r: jnp.imag(self.wavefunction.logpsi(params, r))\n",
        "\n",
        "        d_logpsi_r = jax.grad(logpsi_r)(r)\n",
        "        d2_logpsi_r = jax.hessian(logpsi_r)(r)\n",
        "        d2_logpsi_r = jnp.reshape(d2_logpsi_r, (self.ndim * self.npart, self.ndim * self.npart))\n",
        "\n",
        "        d_logpsi_i = jax.grad(logpsi_i)(r)\n",
        "        d2_logpsi_i = jax.hessian(logpsi_i)(r)\n",
        "        d2_logpsi_i = jnp.reshape(d2_logpsi_i, (self.ndim * self.npart, self.ndim * self.npart))\n",
        "\n",
        "        d_logpsi = d_logpsi_r + 1j * d_logpsi_i\n",
        "        d2_logpsi = d2_logpsi_r + 1j * d2_logpsi_i\n",
        "        ke = - 0.5 * ( jnp.trace(d2_logpsi) + jnp.sum( d_logpsi * d_logpsi ) )\n",
        "        return ke\n",
        "\n",
        "\n",
        "    @partial(jit, static_argnums=(0,))\n",
        "    def energy (self, params, r):\n",
        "        \"\"\" Sum of the kinetic and the potential energy \"\"\"\n",
        "        ke = vmap(self.kinetic, in_axes=(None, 0))(params, r)\n",
        "        pe = self.potential(r)\n",
        "        en = ke + pe\n",
        "        return ke, pe, en"
      ]
    },
    {
      "cell_type": "markdown",
      "source": [
        "### Metropolis class\n",
        "\n",
        "This class implements the Metropolis algorithm to sample particle configurations from a\n",
        "given variational wave function in `ndim` dimensions for `npart` particles, using `nwalk`\n",
        "independent walkers.\n",
        "\n",
        "- `__init__` sets up all parameters, including the wave function, step sizes (`sig`, `sig_i`),\n",
        "  number of equilibration steps (`neq`), averaging steps (`nav`), and Metropolis steps per move (`nvoid`).\n",
        "\n",
        "- The `step` method performs `nvoid` Metropolis updates. New configurations are proposed\n",
        "  using Gaussian displacements, and accepted with probability  \n",
        "  $$\n",
        "  A(R\\to R^\\prime) = \\min\\left(1, \\left| \\frac{\\Psi(\\mathbf{R}')}{\\Psi(\\mathbf{R})} \\right|^2 \\right).\n",
        "  $$  \n",
        "  Log-amplitudes of the wave function are used for numerical stability.\n",
        "\n",
        "- The `walk` method initializes walker positions from a normal distribution with width `sig_i`,\n",
        "  performs `neq` equilibration blocks (discarded), then `nav` sampling blocks, each consisting\n",
        "  of `nvoid` steps. It returns the full trajectory and acceptance probabilities.\n",
        "\n",
        "This sampler is compatible with any wave function class implementing `.vmap_logpsi(params, r)`.\n"
      ],
      "metadata": {
        "id": "zLTu5Oh8tOnR"
      }
    },
    {
      "cell_type": "code",
      "execution_count": 5,
      "metadata": {
        "id": "ReqTewSvKKue"
      },
      "outputs": [],
      "source": [
        "class Metropolis(object):\n",
        "    \"\"\"Metropolis Sampler in N dimension\n",
        "\n",
        "    Sample from N-D coordinates, using some initial probability distribution\n",
        "\n",
        "    \"\"\"\n",
        "    def __init__(self,\n",
        "          nwalk : int,\n",
        "          npart : int,\n",
        "          ndim : int,\n",
        "          neq : int,\n",
        "          nav : int,\n",
        "          nvoid : int,\n",
        "          sig : float,\n",
        "          sig_i : float,\n",
        "          wavefunction : callable):\n",
        "\n",
        "          self.nwalk = nwalk\n",
        "          self.npart = npart\n",
        "          self.ndim = ndim\n",
        "          self.neq = neq\n",
        "          self.nav = nav\n",
        "          self.nvoid = nvoid\n",
        "          self.sig = sig\n",
        "          self.sig_i = sig_i\n",
        "          self.wavefunction = wavefunction\n",
        "\n",
        "# Function that performs nvoid Metropolis steps\n",
        "    @partial(jit, static_argnums=(0,))\n",
        "    def step(self, params, x_o, key_o):\n",
        "\n",
        "        def single_step(i, loop_carry):\n",
        "            x_o, key_o, acc_o = loop_carry\n",
        "            log_wpsi_o = self.wavefunction.vmap_logpsi(params, x_o)\n",
        "            key_o, key_input = jax.random.split(key_o)\n",
        "            x_n = x_o + self.sig * jax.random.normal(key_input, shape=[self.nwalk, self.npart, self.ndim])\n",
        "            log_wpsi_n = self.wavefunction.vmap_logpsi(params, x_n)\n",
        "            prob = jnp.abs(jnp.exp( 2 * ( log_wpsi_n - log_wpsi_o ) ))\n",
        "            key_o, key_input = jax.random.split(key_o)\n",
        "            accept = jnp.greater(prob, jax.random.uniform(key_input, shape=[self.nwalk]))\n",
        "            x_o = jnp.where(accept.reshape([self.nwalk,1,1]), x_n, x_o)\n",
        "            acc_o = accept.astype('float64')\n",
        "            return x_o, key_o, acc_o\n",
        "\n",
        "        acc_o = jnp.zeros(self.nwalk)\n",
        "        x_o, key_o, acc_o = fori_loop(0, self.nvoid, single_step, (x_o, key_o, acc_o) )\n",
        "        return x_o, acc_o, key_o\n",
        "\n",
        "# Function that perform the full Metropolis walk and returns the path and the acceptance\n",
        "    def walk(self, params, key):\n",
        "        key_o, key_input = jax.random.split(key)\n",
        "        x_o = self.sig_i * jax.random.normal(key_input, shape=[self.nwalk, self.npart, self.ndim])\n",
        "        for i in range (neq):\n",
        "            x_o, acc_o, key_o = self.step(params, x_o, key_o)\n",
        "        x_s = []\n",
        "        acc_s = []\n",
        "        for i in range (self.nav):\n",
        "            x_o, acc_o, key_o = self.step(params, x_o, key_o)\n",
        "            x_s.append(x_o)\n",
        "            acc_s.append(acc_o)\n",
        "        x_s = jnp.concatenate(x_s)\n",
        "        acc_s = jnp.concatenate(acc_s)\n",
        "        return x_s, acc_s"
      ]
    },
    {
      "cell_type": "markdown",
      "source": [
        "### `estimator` function\n",
        "\n",
        "This function computes the average and standard error of a given observable over a batch of samples.\n",
        "\n",
        "- `observable`: a 1D array of values (e.g., energy or acceptance rates) evaluated over different configurations.\n",
        "- `average`: the sample mean.\n",
        "- `average_2`: the mean of the squared values.\n",
        "- `error`: the standard error of the mean, computed as  \n",
        "  $$\n",
        "  \\sigma = \\frac{\\sqrt{\\langle O^2 \\rangle - \\langle O \\rangle^2}}{\\sqrt{N - 1}},\n",
        "  $$  \n",
        "  where $N$ is the number of samples.\n"
      ],
      "metadata": {
        "id": "oWrJvfiQtrVF"
      }
    },
    {
      "cell_type": "code",
      "execution_count": 6,
      "metadata": {
        "id": "N1z8mRn0bPYl"
      },
      "outputs": [],
      "source": [
        "# Define the function that computes the average and the standard deviation of each observables\n",
        "@jit\n",
        "def estimator(observable):\n",
        "    average = jnp.mean(observable)\n",
        "    average_2 = jnp.mean(observable**2)\n",
        "    error = jnp.sqrt(average_2 - average**2) / jnp.sqrt(observable.shape[0]-1)\n",
        "    return average, error"
      ]
    },
    {
      "cell_type": "markdown",
      "source": [
        "### Optimizer class\n",
        "\n",
        "This class implements various optimization algorithms to update the parameters of a variational\n",
        "wave function based on the gradient of the energy. It supports Stochastic Gradient Descent (SGD),\n",
        "Adam, and Stochastic Reconfiguration (SR) with Cholesky decomposition.\n",
        "\n",
        "- `getder` and `vmap_getder` compute the gradient of the real and imaginary parts of the log\n",
        "  wave function with respect to the parameters, flattened for optimization.\n",
        "\n",
        "- `gradient` computes the energy gradient using the estimator  \n",
        "  $$\n",
        "  f_i = 2 \\left( \\langle E_L O_i \\rangle - \\langle E_L \\rangle \\langle O_i \\rangle \\right),\n",
        "  $$\n",
        "  where $O_i$ is the derivative of the log wave function.\n",
        "\n",
        "- `sgd` applies a simple gradient descent step: $\\Delta p_i = f_i$.\n",
        "\n",
        "- `adam` implements the Adam optimizer using exponential moving averages for the first and second\n",
        "  moments of the gradient, with bias correction.\n",
        "\n",
        "- `sr_cholesky` performs a Stochastic Reconfiguration (SR) update by solving  \n",
        "  $$\n",
        "  S \\cdot \\Delta p = f\n",
        "  $$\n",
        "  via Cholesky factorization, where $S$ is the covariance matrix of the centered log-derivatives:\n",
        "  $$\n",
        "  S_{ij} = \\frac{1}{N} \\sum_{n=1}^N \\bar{O}_i^*(x_n) \\bar{O}_j(x_n) + \\epsilon \\, \\delta_{ij} (1 + \\sqrt{g_{ii}}),\n",
        "  $$\n",
        "  with $\\bar{O}_i(x_n) = O_i(x_n) - \\langle O_i \\rangle$, $N$ the number of samples, and $g_{ii}$ the adaptive second-moment estimate\n",
        "  used for regularization.\n",
        "\n",
        "The optimizer maintains internal state variables (`m_i`, `g2_i`) for momentum and adaptive learning\n",
        "rate control in Adam and SR.\n",
        "\n"
      ],
      "metadata": {
        "id": "blLmUztCt7p9"
      }
    },
    {
      "cell_type": "code",
      "execution_count": 7,
      "metadata": {
        "id": "JvsVFDXVte_c"
      },
      "outputs": [],
      "source": [
        "class Optimizer(object):\n",
        "    \"\"\"Class that computes the energy derivative\n",
        "    f_i = 2[< E_L O_i > - 2 < E_L > < O_i >]\n",
        "    and updates the parameters according to the SGD algorithm\n",
        "    \"\"\"\n",
        "    def __init__(self, ndim : int, npart : int, nparams : int, wavefunction : callable):\n",
        "        self.ndim = ndim\n",
        "        self.npart = npart\n",
        "        self.nparams = nparams\n",
        "        self.wavefunction = wavefunction\n",
        "        self.alpha = 0.9\n",
        "        self.beta = 0.99\n",
        "        self.g2_i = jnp.zeros(self.nparams)\n",
        "        self.m_i = jnp.zeros(self.nparams)\n",
        "\n",
        "    @partial(jit, static_argnums=(0,))\n",
        "    def getder(self, params, x):\n",
        "        logpsi_r = lambda params: jnp.real(self.wavefunction.logpsi(params, x))\n",
        "        logpsi_i = lambda params: jnp.imag(self.wavefunction.logpsi(params, x))\n",
        "        dlogpsi_r = self.wavefunction.flatten_params(jax.grad(logpsi_r)(params))\n",
        "        dlogpsi_i = self.wavefunction.flatten_params(jax.grad(logpsi_i)(params))\n",
        "        dlogpsi = dlogpsi_r + 1j * dlogpsi_i\n",
        "        return dlogpsi\n",
        "\n",
        "    @partial(jit, static_argnums=(0,))\n",
        "    def vmap_getder(self, params, x):\n",
        "        return vmap(self.getder, in_axes=(None, 0))(params, x)\n",
        "\n",
        "# Computes the gradient of the energy f_i = 2[ < E_L O_i > - 2 < E_L > < O_i > ]\n",
        "    @partial(jit, static_argnums=(0,))\n",
        "    def gradient (self, params, x, en):\n",
        "        nsamples = en.shape[0]\n",
        "        jac = self.vmap_getder(params, x)\n",
        "        jac = jac - jnp.mean(jac, axis=0)\n",
        "        jac_conjugate = jnp.conjugate(jac)\n",
        "        en = en - jnp.mean(en)\n",
        "        grad_energy = jnp.real(2 * jnp.matmul(en, jac_conjugate) / nsamples)\n",
        "        return grad_energy, jac\n",
        "\n",
        "    @partial(jit, static_argnums=(0,))\n",
        "    def sgd(self, params, grad_energy):\n",
        "        \"\"\"Parameters' update according to the SGD algorithm\n",
        "      Args:\n",
        "      params: initial variational parameters\n",
        "      r: array with shape (n_devices, nwalk * nav, npart, ndim)\n",
        "      sz: array with shape (n_devices, nwalk * nav, npart, 2)\n",
        "      energy: array with shape (n_devices, nwalk * nav)\n",
        "\n",
        "      Returns:\n",
        "      dp_i: array with the same shape as ``params`` representing the best parameters' update (nparams)\n",
        "      \"\"\"\n",
        "        f_i = grad_energy\n",
        "        dp_i = f_i\n",
        "        return dp_i\n",
        "\n",
        "    @partial(jit, static_argnums=(0,))\n",
        "    def adam(self, itr, params, grad_energy, g2_i, m_i):\n",
        "        \"\"\"Parameters' update according to the Adam algorithm\n",
        "      Args:\n",
        "      params: initial variational parameters\n",
        "      r: array with shape (n_devices, nwalk * nav, npart, ndim)\n",
        "      sz: array with shape (n_devices, nwalk * nav, npart, 2)\n",
        "      energy: array with shape (n_devices, nwalk * nav)\n",
        "      m_i: accumulated momentum  (nparams)\n",
        "      g2_i: accumulated second order derivative squared  (nparams)\n",
        "      itr : iteration\n",
        "\n",
        "      Returns:\n",
        "      dp_i: array with the same shape as ``params`` representing the best parameters' update (nparams)\n",
        "      g2_i: updated accumulated second order derivative squared (nparams)\n",
        "      m_i: updated accumulated momentum (nparams)\n",
        "      \"\"\"\n",
        "\n",
        "        f_i = grad_energy\n",
        "        m_i = self.alpha * m_i + (1. - self.alpha) * f_i\n",
        "        mh_i = m_i / ( 1. - self.alpha**itr )\n",
        "        g2_i = self.beta * g2_i + (1. - self.beta) * f_i**2\n",
        "        g2h_i = g2_i / ( 1. - self.beta**itr )\n",
        "        dp_i = mh_i / ( jnp.sqrt(g2h_i) + 0.00001 )\n",
        "        return dp_i, g2_i, m_i\n",
        "\n",
        "    @partial(jit, static_argnums=(0,))\n",
        "    def sr_cholesky(self, itr, params, grad_i, jac_ni, nsamples, g2_i):\n",
        "        \"\"\"Parameters' update according to the SR algorithm with Cholesky solver\n",
        "      Args:\n",
        "      params: initial variational parameters\n",
        "      r: array with shape (n_devices, nwalk * nav, npart, ndim)\n",
        "      sz: array with shape (n_devices, nwalk * nav, npart, 2)\n",
        "      energy: array with shape (n_devices, nwalk, nav)\n",
        "      g2_i: accumulated second order derivative squared  (nparams)\n",
        "      itr : iteration\n",
        "\n",
        "      Returns:\n",
        "      dp_i: array with the same shape as ``params`` representing the best parameters' update (nparams)\n",
        "      g2_i: updated accumulated second order derivative squared (nparams)\n",
        "      \"\"\"\n",
        "        eps = 0.01\n",
        "        g2_i = self.beta * g2_i + (1. - self.beta) * grad_i**2\n",
        "        g2h_i = g2_i / ( 1. - self.beta**itr )\n",
        "        S_ij = jnp.matmul(jnp.conjugate(jnp.transpose(jac_ni)), jac_ni) / nsamples + eps * jnp.diag( 1. + jnp.sqrt(g2h_i) )\n",
        "        S_ij = jnp.real(S_ij)\n",
        "        U_ij, low = cho_factor(S_ij)\n",
        "        dp_i = cho_solve((U_ij, low), grad_i)\n",
        "        return dp_i, g2_i"
      ]
    },
    {
      "cell_type": "code",
      "execution_count": 8,
      "metadata": {
        "id": "cvaeAdMhG1g6"
      },
      "outputs": [],
      "source": [
        "# Set the parameters and instanciate the Wavefunction, Hamiltonian, and Metropolis classes\n",
        "sig_i = 1.0         # Gaussian width for sampling the initial configuration\n",
        "sig = 0.2           # Gaussian width for sampling the Metropolis Move\n",
        "neq = 10            # Equilibration steps\n",
        "nav = 10             # Averaging steps\n",
        "nvoid = 100         # Void steps between energy calculations\n",
        "nwalk = 400         # Quantum Monte Carlo configurations\n",
        "ndim = 1            # Spatial dimension\n",
        "npart = 2           # Number of particles\n",
        "seed_walk = 19      # Seed to initialize the random-number generator of the Metropolis walk\n",
        "seed_net = 17       # Seed to initialize the random-number generator of the neural network\n",
        "\n",
        "key_net = random.PRNGKey(seed_net)\n",
        "wavefunction = WavefunctionBoson(ndim, npart)\n",
        "params, nparams = wavefunction.build(key_net)\n",
        "\n",
        "hamiltonian = Hamiltonian(ndim, npart, wavefunction)\n",
        "key_walk = random.PRNGKey(seed_walk)\n",
        "metropolis = Metropolis(nwalk, npart, ndim, neq, nav, nvoid, sig, sig_i, wavefunction)\n",
        "optimizer = Optimizer(ndim, npart, nparams, wavefunction)"
      ]
    },
    {
      "cell_type": "markdown",
      "source": [
        "### Optimization step functions\n",
        "\n",
        "These functions define one iteration of the variational optimization using different optimization strategies:\n",
        "Stochastic Gradient Descent (SGD), Adam, and Stochastic Reconfiguration (SR).\n",
        "\n",
        "Each function follows the same general structure:\n",
        "1. Run a Metropolis sampling step to generate configurations `x_s`.\n",
        "2. Evaluate the kinetic, potential, and total energy on the sampled configurations.\n",
        "3. Estimate the mean and statistical error of the energy using the `estimator`.\n",
        "4. Compute the energy gradient with respect to the variational parameters.\n",
        "5. Apply the chosen optimizer (SGD, Adam, or SR) to compute the parameter update.\n",
        "6. Update and return the new parameters.\n",
        "\n",
        "- `step_sgd`: uses plain SGD with a fixed learning rate.\n",
        "- `step_adam`: uses the Adam optimizer with momentum and adaptive scaling; internal states `m_i` and `g2_i` are updated.\n",
        "- `step_sr`: performs a Stochastic Reconfiguration update using the Cholesky decomposition of the covariance matrix of log-derivatives.\n",
        "\n",
        "All steps assume that the wave function object provides `.flatten_params()` and `.unflatten_params()` methods for parameter management.\n"
      ],
      "metadata": {
        "id": "tbCRpugWu8Va"
      }
    },
    {
      "cell_type": "code",
      "execution_count": 9,
      "metadata": {
        "id": "uV1wvrZGte_c"
      },
      "outputs": [],
      "source": [
        "# Define the optimization step and perform the optimization using JAX default optimizer\n",
        "learning_rate = 0.1\n",
        "\n",
        "def step_sgd(step, key_input, params):\n",
        "    x_s, acc_s = metropolis.walk(params, key_input)\n",
        "    ke, pe, en =  hamiltonian.energy(params, x_s)\n",
        "    energy_average, energy_error = estimator(en)\n",
        "    energy_gradient, _  = optimizer.gradient(params, x_s, en)\n",
        "    dp_i = optimizer.sgd(params, energy_gradient)\n",
        "    params = wavefunction.flatten_params(params)\n",
        "    params = params - learning_rate * dp_i\n",
        "    params = wavefunction.unflatten_params(params)\n",
        "    return energy_average, energy_error, params\n",
        "\n",
        "def step_adam(itr, key_input, params):\n",
        "    itr+=1\n",
        "    x_s, acc_s = metropolis.walk(params, key_input)\n",
        "    ke, pe, en =  hamiltonian.energy(params, x_s)\n",
        "    energy_average, energy_error = estimator(en)\n",
        "    energy_gradient, _ = optimizer.gradient(params, x_s, en)\n",
        "    g2_i = optimizer.g2_i\n",
        "    m_i = optimizer.m_i\n",
        "    dp_i, optimizer.g2_i, optimizer.m_i = optimizer.adam(itr, params, energy_gradient, g2_i, m_i)\n",
        "    params = wavefunction.flatten_params(params)\n",
        "    params = params - learning_rate * dp_i\n",
        "    params = wavefunction.unflatten_params(params)\n",
        "    return energy_average, energy_error, params\n",
        "\n",
        "def step_sr(itr, key_input, params):\n",
        "    itr += 1\n",
        "    x_s, acc_s = metropolis.walk(params, key_input)\n",
        "    ke, pe, en =  hamiltonian.energy(params, x_s)\n",
        "    energy_average, energy_error = estimator(en)\n",
        "    nsamples = en.shape[0]\n",
        "    energy_gradient, jac = optimizer.gradient(params, x_s, en)\n",
        "    g2_i=optimizer.g2_i\n",
        "    dp_i, optimizer.g2_i = optimizer.sr_cholesky(itr, params, energy_gradient, jac, nsamples, g2_i)\n",
        "    params = wavefunction.flatten_params(params)\n",
        "    params = params-learning_rate * dp_i\n",
        "    params = wavefunction.unflatten_params(params)\n",
        "    return energy_average, energy_error, params"
      ]
    },
    {
      "cell_type": "code",
      "source": [
        "steps_history = []\n",
        "energy_history  = []\n",
        "error_history = []\n",
        "params_saved = []\n",
        "for i in range (21):\n",
        "    key_walk, key_input = jax.random.split(key_walk)\n",
        "    #value, error, params = step_sgd(i, key_input, params)\n",
        "    #value, error, params = step_adam(i, key_input, params)\n",
        "    value, error, params = step_sr(i, key_input, params)\n",
        "    print(\"step\", i, \"energy = \", value, \"err=\", error )\n",
        "    steps_history.append(i)\n",
        "    energy_history.append(value)\n",
        "    error_history.append(error)\n",
        "    params_saved.append(params)"
      ],
      "metadata": {
        "colab": {
          "base_uri": "https://localhost:8080/"
        },
        "id": "cv36xFwWzxal",
        "outputId": "d5088e85-e4f3-4f76-833d-9c7e9b60107b"
      },
      "execution_count": 10,
      "outputs": [
        {
          "output_type": "stream",
          "name": "stdout",
          "text": [
            "step 0 energy =  (9.506812147346356+0.008394918218054145j) err= (0.10965150570286258+0.0004594227443058438j)\n",
            "step 1 energy =  (12.287082392085729-0.002874299276442989j) err= (0.13301313849741428+0.0002792292107428097j)\n",
            "step 2 energy =  (5.162911894466166+0.0006270410850796839j) err= (0.05819729298738715-0.0011366547551441163j)\n",
            "step 3 energy =  (3.2245035178893198+0.02907377140182816j) err= (0.022411477857257337-0.0013569673526915144j)\n",
            "step 4 energy =  (2.636439533628464-0.014020558372081913j) err= (0.004501740430345098-0.00940872950372045j)\n",
            "step 5 energy =  (2.168735600705547+0.00931790033969892j) err= (0.003034207571049115-0.01127662226917913j)\n",
            "step 6 energy =  (1.8356227699599117-0.014411229170682719j) err= (0.0023517897974595857-0.012450274333295593j)\n",
            "step 7 energy =  (1.5641188788977742+0.013168091451004322j) err= (0.001534319072456376-0.01081254028428463j)\n",
            "step 8 energy =  (1.3833755768571405-0.01342294550855333j) err= (0.0012496194759769057-0.009430028218975015j)\n",
            "step 9 energy =  (1.248766549896159+0.005197282568731675j) err= (0.0010282404876900346-0.007721885363930125j)\n",
            "step 10 energy =  (1.1618656306570978+0.0029624339915726933j) err= (0.0007872550679458454-0.005931141142569758j)\n",
            "step 11 energy =  (1.1056474152274354+0.007149033348559544j) err= (0.0006569337540937307-0.004755768105171304j)\n",
            "step 12 energy =  (1.067790488804158-0.00509125542465483j) err= (0.0004738559574998432-0.003973867658825433j)\n",
            "step 13 energy =  (1.0423535018562216-0.0013488476089083964j) err= (0.0003994781881434291-0.00321693260011742j)\n",
            "step 14 energy =  (1.026225353828027-0.0003350898138571363j) err= (0.00030153167994975905-0.002496126608799902j)\n",
            "step 15 energy =  (1.017853035714404-0.001716931556727206j) err= (0.0002339187089467388-0.002038179233179246j)\n",
            "step 16 energy =  (1.0112492050973179+0.0003322904003096949j) err= (0.00019123667017835512-0.0016332154811219838j)\n",
            "step 17 energy =  (1.0110756719551406+0.0006240248531280255j) err= (0.002130121464268583-0.00016410454468895536j)\n",
            "step 18 energy =  (1.0072887527162004-0.001236792732885545j) err= (0.001452085247683436-0.00010790968496628377j)\n",
            "step 19 energy =  (1.0029747674732263+0.0004648327285454729j) err= (0.00013116397558757457-0.0006551830181036327j)\n",
            "step 20 energy =  (1.001596251834104-0.0008277576444781103j) err= (8.295176949550705e-05-0.0005123043766727775j)\n"
          ]
        }
      ]
    },
    {
      "cell_type": "code",
      "execution_count": 11,
      "metadata": {
        "colab": {
          "base_uri": "https://localhost:8080/",
          "height": 466
        },
        "id": "evW0aOzKte_c",
        "outputId": "1a4d0c5f-b080-45da-9b6e-3edeb9cf2ad6"
      },
      "outputs": [
        {
          "output_type": "display_data",
          "data": {
            "text/plain": [
              "<Figure size 720x480 with 1 Axes>"
            ],
            "image/png": "[encoded data removed]"
          },
          "metadata": {}
        }
      ],
      "source": [
        "from matplotlib.pyplot import figure\n",
        "palette = plt.get_cmap('Set1')\n",
        "figure(num=None, figsize=(6, 4), dpi=120, facecolor='w', edgecolor='k')\n",
        "plt.rcParams.update({'font.size': 12})\n",
        "\n",
        "step = jnp.asarray(steps_history)\n",
        "energy = jnp.real(jnp.asarray(energy_history))\n",
        "error = jnp.real(jnp.asarray(error_history))\n",
        "\n",
        "p1 = plt.errorbar(step, energy, yerr=error, fmt='o', errorevery=1, markevery = 1, label = r'$\\Psi_{V}^{ANN}$', zorder = 0, color = palette(4))\n",
        "p2 = plt.axhline(y= 0.5 * npart * ndim, linestyle = '-', label = 'Exact', color = palette(2), lw = 2)\n",
        "\n",
        "#plt.ylim(0.46,1)\n",
        "plt.xlim(0,20)\n",
        "\n",
        "plt.xlabel(r'Optimization step')\n",
        "plt.ylabel('E')\n",
        "plt.legend([p1, p2], [r'$\\Psi_{V}^{ANN}$', r'Exact'], loc = 'upper right')\n",
        "plt.savefig(\"ho_energies.pdf\",bbox_inches = 'tight')\n",
        "plt.show()"
      ]
    },
    {
      "cell_type": "code",
      "execution_count": 15,
      "metadata": {
        "colab": {
          "base_uri": "https://localhost:8080/",
          "height": 545
        },
        "id": "0jj6oYslte_c",
        "outputId": "3346571a-18b5-44f7-cba5-6abfa5499a3f"
      },
      "outputs": [
        {
          "output_type": "stream",
          "name": "stderr",
          "text": [
            "/usr/local/lib/python3.11/dist-packages/matplotlib/cbook.py:1709: ComplexWarning: Casting complex values to real discards the imaginary part\n",
            "  return math.isfinite(val)\n",
            "/usr/local/lib/python3.11/dist-packages/matplotlib/cbook.py:1345: ComplexWarning: Casting complex values to real discards the imaginary part\n",
            "  return np.asarray(x, float)\n"
          ]
        },
        {
          "output_type": "display_data",
          "data": {
            "text/plain": [
              "<Figure size 720x480 with 1 Axes>"
            ],
            "image/png": "[encoded data removed]"
          },
          "metadata": {}
        }
      ],
      "source": [
        "import jax.numpy as jnp\n",
        "import matplotlib.pyplot as plt\n",
        "from matplotlib.pyplot import figure\n",
        "\n",
        "# In the one-dimensional case, compare the learned and exact wave functions\n",
        "x = jnp.linspace(0, 10, 100)\n",
        "\n",
        "# Define and normalize the exact wave function (e.g., ground state of harmonic oscillator)\n",
        "psi_exact = jnp.exp(-0.5 * x**2)\n",
        "psi_exact /= jnp.sqrt(jnp.trapezoid(psi_exact**2, x))\n",
        "\n",
        "# Evaluate and normalize the ANN wave functions over training checkpoints\n",
        "psi_ann = []\n",
        "for params in params_saved:\n",
        "    psi = jnp.exp(jnp.asarray(wavefunction.vmap_logpsi(params, x)))\n",
        "    psi /= jnp.sqrt(jnp.trapezoid(psi**2, x))\n",
        "    psi_ann.append(psi)\n",
        "\n",
        "# Plotting\n",
        "figure(figsize=(6, 4), dpi=120)\n",
        "plt.rcParams.update({'font.size': 12})\n",
        "palette = plt.get_cmap('Set1')\n",
        "\n",
        "# Select snapshots to visualize\n",
        "snapshots = [0, 4, 9, 14, 19]\n",
        "labels = [r'$n=1$', r'$n=5$', r'$n=10$', r'$n=15$', r'$n=20$']\n",
        "\n",
        "for idx, label in zip(snapshots, labels):\n",
        "    plt.plot(x, psi_ann[idx], '-', label=label)\n",
        "\n",
        "plt.plot(x, psi_exact, '--', label='Exact')\n",
        "\n",
        "plt.xlabel('x [Arbitrary Units]')\n",
        "plt.ylabel(r'$\\Psi(x)$')\n",
        "plt.xlim(0, 4)\n",
        "plt.legend(loc='upper right')\n",
        "plt.tight_layout()\n",
        "plt.savefig(\"ho_wavefunction.pdf\", bbox_inches='tight')\n",
        "plt.show()\n"
      ]
    },
    {
      "cell_type": "code",
      "execution_count": 16,
      "metadata": {
        "id": "9aOH5aVNte_c"
      },
      "outputs": [],
      "source": [
        "# Set the parameters and instanciate the Wavefunction, Hamiltonian, and Metropolis classes\n",
        "sig_i = 1.0         # Gaussian width for sampling the initial configuration\n",
        "sig = 0.2           # Gaussian width for sampling the Metropolis Move\n",
        "neq = 10            # Equilibration steps\n",
        "nav = 10             # Averaging steps\n",
        "nvoid = 100         # Void steps between energy calculations\n",
        "nwalk = 400         # Quantum Monte Carlo configurations\n",
        "ndim = 2            # Spatial dimension\n",
        "npart = 3           # Number of particles\n",
        "seed_walk = 19      # Seed to initialize the random-number generator of the Metropolis walk\n",
        "seed_net = 17       # Seed to initialize the random-number generator of the neural network\n",
        "\n",
        "key_net = random.PRNGKey(seed_net)\n",
        "wavefunction = WavefunctionFermion(ndim, npart)\n",
        "params, nparams = wavefunction.build(key_net)\n",
        "\n",
        "hamiltonian = Hamiltonian(ndim, npart, wavefunction)\n",
        "key_walk = random.PRNGKey(seed_walk)\n",
        "metropolis = Metropolis(nwalk, npart, ndim, neq, nav, nvoid, sig, sig_i, wavefunction)\n",
        "optimizer = Optimizer(ndim, npart, nparams, wavefunction)"
      ]
    },
    {
      "cell_type": "code",
      "execution_count": 17,
      "metadata": {
        "colab": {
          "base_uri": "https://localhost:8080/"
        },
        "id": "XgW7ZyR1te_c",
        "outputId": "cce37140-7a6e-4bd6-9f54-2ff20184771e"
      },
      "outputs": [
        {
          "output_type": "stream",
          "name": "stdout",
          "text": [
            "step 0 energy =  (23.28944307975279+0.012540737536316321j) err= (0.1805595555632989-0.0003507218932508293j)\n",
            "step 1 energy =  (13.89796118871445-0.00214865301239443j) err= (0.12194124931843175-0.0006255084693175307j)\n",
            "step 2 energy =  (10.806728488871464-0.0069043069433858744j) err= (0.08084593458667305+0.00017324734680670582j)\n",
            "step 3 energy =  (5.952200320719969+0.011713498322485272j) err= (0.0161835951182874+0.0006300007090242101j)\n",
            "step 4 energy =  (5.575972656387652-0.007852840786292609j) err= (0.006190365029956701+0.0005138961789416299j)\n",
            "step 5 energy =  (5.369633113154529+0.011755498480892903j) err= (0.0007976810225000967+0.003160914092664965j)\n",
            "step 6 energy =  (5.242151989281065-0.0057006603127715124j) err= (1.8392698291244078e-06-0.002882817545433062j)\n",
            "step 7 energy =  (5.168494926432117+0.0005406711139481284j) err= (0.0012698336373620335-0.000399676361751461j)\n",
            "step 8 energy =  (5.1124284380567895+0.008737769989670784j) err= (1.9281888517422683e-05+0.0014915137570640127j)\n",
            "step 9 energy =  (5.078370736973605+0.0019463724670960737j) err= (0.0021570906232666652-0.00031409283318601614j)\n",
            "step 10 energy =  (5.0635196974430965+0.0027013187344855248j) err= (0.005591527082156243+1.1537802488881624e-05j)\n",
            "step 11 energy =  (5.034118812878045-0.0025213297513524795j) err= (0.0026374888383974915-0.00019524588772456902j)\n",
            "step 12 energy =  (5.036730313940184+0.003037707990248733j) err= (0.005368509215871059-5.262919897616633e-05j)\n",
            "step 13 energy =  (5.020933059716708+0.00012687780456050035j) err= (0.0018660106523412357-0.00010562429260701508j)\n",
            "step 14 energy =  (5.011825733623145+0.0019081535793802871j) err= (0.001973942323385629-9.927392498088194e-05j)\n",
            "step 15 energy =  (5.007940439116941+2.3437948234450333e-05j) err= (0.0020925421464577745+2.152923808975017e-05j)\n",
            "step 16 energy =  (5.005770187672232+0.003925046189270049j) err= (0.00268257621242379-5.4626100835300154e-05j)\n",
            "step 17 energy =  (5.013097462818693-0.0009366964618337769j) err= (0.002658537929740758+5.056511664307663e-06j)\n",
            "step 18 energy =  (5.007257399322022+0.0010961539598702836j) err= (0.0015237994469278063-8.588555274170325e-05j)\n",
            "step 19 energy =  (5.006207316817963+9.839360835248024e-05j) err= (0.0023322282084281567-0.00010507712274533145j)\n",
            "step 20 energy =  (5.003213317242104-0.00034321809128668866j) err= (0.0021698317869365213-4.058854892262776e-06j)\n"
          ]
        }
      ],
      "source": [
        "steps_history = []\n",
        "energy_history  = []\n",
        "error_history = []\n",
        "params_saved = []\n",
        "for i in range (21):\n",
        "    key_walk, key_input = jax.random.split(key_walk)\n",
        "    #value, error, params = step_sgd(i, key_input, params)\n",
        "    #value, error, params = step_adam(i, key_input, params)\n",
        "    value, error, params = step_sr(i, key_input, params)\n",
        "    print(\"step\", i, \"energy = \", value, \"err=\", error )\n",
        "    steps_history.append(i)\n",
        "    energy_history.append(value)\n",
        "    error_history.append(error)\n",
        "    params_saved.append(params)"
      ]
    },
    {
      "cell_type": "code",
      "source": [
        "import numpy as np\n",
        "import math\n",
        "\n",
        "def ground_state_energy_closed_shell(N, d):\n",
        "    \"\"\"\n",
        "    Ground‐state energy for N spin-polarized fermions filling\n",
        "    *closed* shells in a d-dimensional harmonic oscillator (m=ω=1).\n",
        "\n",
        "    Parameters\n",
        "    ----------\n",
        "    N : int\n",
        "        Total number of particles. Must satisfy N = C(nF + d, d) for some integer nF ≥ 0.\n",
        "    d : int\n",
        "        Number of spatial dimensions (d ≥ 1).\n",
        "\n",
        "    Returns\n",
        "    -------\n",
        "    E0 : float\n",
        "        Ground‐state energy E₀ = N * (d*nF/(d+1) + d/2).\n",
        "\n",
        "    Raises\n",
        "    ------\n",
        "    ValueError\n",
        "        If N does not correspond to a closed shell in dimension d.\n",
        "    \"\"\"\n",
        "    # find the unique nF ≥ 0 such that binomial(nF + d, d) == N\n",
        "    nF = 0\n",
        "    while True:\n",
        "        if math.comb(nF + d, d) == N:\n",
        "            break\n",
        "        if math.comb(nF + d, d) > N:\n",
        "            raise ValueError(f\"N={N} is not a closed shell for d={d}\")\n",
        "        nF += 1\n",
        "\n",
        "    # compute the closed‐shell ground‐state energy\n",
        "    E0 = N * (d * nF / (d + 1) + d / 2)\n",
        "    return E0\n",
        "\n",
        "# Example usage:\n",
        "E0 = ground_state_energy_closed_shell(npart, ndim)\n",
        "print('E0=', E0)"
      ],
      "metadata": {
        "id": "U6bY5F5_3U0T",
        "colab": {
          "base_uri": "https://localhost:8080/"
        },
        "outputId": "75aa8e00-ba90-4324-c9d2-9dbf610d7ebe"
      },
      "execution_count": 18,
      "outputs": [
        {
          "output_type": "stream",
          "name": "stdout",
          "text": [
            "E0= 5.0\n"
          ]
        }
      ]
    },
    {
      "cell_type": "code",
      "source": [
        "from matplotlib.pyplot import figure\n",
        "palette = plt.get_cmap('Set1')\n",
        "figure(num=None, figsize=(6, 4), dpi=120, facecolor='w', edgecolor='k')\n",
        "plt.rcParams.update({'font.size': 12})\n",
        "\n",
        "E_exact = ground_state_energy_closed_shell(npart, ndim)\n",
        "\n",
        "step = jnp.asarray(steps_history)\n",
        "energy = jnp.real(jnp.asarray(energy_history))\n",
        "error = jnp.real(jnp.asarray(error_history))\n",
        "\n",
        "p1 = plt.errorbar(step, energy, yerr=error, fmt='o', errorevery=1, markevery = 1, label = r'$\\Psi_{V}^{ANN}$', zorder = 0, color = palette(4))\n",
        "p2 = plt.axhline(y= E_exact, linestyle = '-', label = 'Exact', color = palette(2), lw = 2)\n",
        "\n",
        "#plt.ylim(0.46,1)\n",
        "plt.xlim(0,20)\n",
        "\n",
        "plt.xlabel(r'Optimization step')\n",
        "plt.ylabel('E')\n",
        "plt.legend([p1, p2], [r'$\\Psi_{V}^{ANN}$', r'Exact'], loc = 'upper right')\n",
        "plt.savefig(\"ho_energies.pdf\",bbox_inches = 'tight')\n",
        "plt.show()"
      ],
      "metadata": {
        "colab": {
          "base_uri": "https://localhost:8080/",
          "height": 466
        },
        "id": "AWrWkZtDz-YP",
        "outputId": "3434c46b-a02f-4500-db46-7b4389f98c66"
      },
      "execution_count": 19,
      "outputs": [
        {
          "output_type": "display_data",
          "data": {
            "text/plain": [
              "<Figure size 720x480 with 1 Axes>"
            ],
            "image/png": "[encoded data removed]"
          },
          "metadata": {}
        }
      ]
    },
    {
      "cell_type": "code",
      "source": [],
      "metadata": {
        "colab": {
          "base_uri": "https://localhost:8080/"
        },
        "id": "IsBCPhtK2q70",
        "outputId": "d4ebc052-28c6-4254-a65c-76d7a0a6addb"
      },
      "execution_count": null,
      "outputs": [
        {
          "output_type": "stream",
          "name": "stdout",
          "text": [
            "E0= 2.0\n"
          ]
        }
      ]
    },
    {
      "cell_type": "code",
      "source": [],
      "metadata": {
        "id": "-RE-aZg72rye"
      },
      "execution_count": null,
      "outputs": []
    }
  ],
  "metadata": {
    "colab": {
      "name": "HO_ndim_npart_standard.ipynb",
      "provenance": [],
      "gpuType": "T4",
      "include_colab_link": true
    },
    "kernelspec": {
      "display_name": "Python 3",
      "name": "python3"
    },
    "language_info": {
      "codemirror_mode": {
        "name": "ipython",
        "version": 3
      },
      "file_extension": ".py",
      "mimetype": "text/x-python",
      "name": "python",
      "nbconvert_exporter": "python",
      "pygments_lexer": "ipython3",
      "version": "3.9.13"
    },
    "accelerator": "GPU"
  },
  "nbformat": 4,
  "nbformat_minor": 0
}